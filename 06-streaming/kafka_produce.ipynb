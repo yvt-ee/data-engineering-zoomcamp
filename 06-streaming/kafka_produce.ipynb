{
 "cells": [
  {
   "cell_type": "code",
   "execution_count": 20,
   "id": "eae67b24-af5f-42b8-968e-503b4ea4ecb8",
   "metadata": {},
   "outputs": [
    {
     "data": {
      "text/plain": [
       "True"
      ]
     },
     "execution_count": 20,
     "metadata": {},
     "output_type": "execute_result"
    }
   ],
   "source": [
    "import json\n",
    "\n",
    "from kafka import KafkaProducer\n",
    "\n",
    "def json_serializer(data):\n",
    "    return json.dumps(data).encode('utf-8')\n",
    "\n",
    "server = 'localhost:9092'\n",
    "\n",
    "producer = KafkaProducer(\n",
    "    bootstrap_servers=[server],\n",
    "    value_serializer=json_serializer\n",
    ")\n",
    "\n",
    "producer.bootstrap_connected()"
   ]
  },
  {
   "cell_type": "code",
   "execution_count": 21,
   "id": "9e253d08-2870-4c0a-a7b4-e8bdebf2b0d9",
   "metadata": {},
   "outputs": [],
   "source": [
    "import pandas as pd\n",
    "\n",
    "dtype_mapping = {\n",
    "    \"lpep_pickup_datetime\": \"str\",\n",
    "    \"lpep_dropoff_datetime\": \"str\",\n",
    "    \"PULocationID\": \"Int64\",  \n",
    "    \"DOLocationID\": \"Int64\",\n",
    "    \"passenger_count\": \"Int64\",\n",
    "    \"trip_distance\": \"float\",\n",
    "    \"tip_amount\": \"float\"\n",
    "}\n",
    "\n",
    "df = pd.read_csv(\"green_tripdata_2019-10.csv\", dtype=dtype_mapping, low_memory=False)\n"
   ]
  },
  {
   "cell_type": "code",
   "execution_count": 22,
   "id": "affc6bb6-0069-4ef5-bfa1-dce8560b3473",
   "metadata": {},
   "outputs": [],
   "source": [
    "columns_to_keep = [\n",
    "    \"lpep_pickup_datetime\",\n",
    "    \"lpep_dropoff_datetime\",\n",
    "    \"PULocationID\",\n",
    "    \"DOLocationID\",\n",
    "    \"passenger_count\",\n",
    "    \"trip_distance\",\n",
    "    \"tip_amount\"\n",
    "]\n",
    "df = df[columns_to_keep]"
   ]
  },
  {
   "cell_type": "code",
   "execution_count": 23,
   "id": "e40796b2-78c5-4c33-9ed1-9c697f7781e5",
   "metadata": {},
   "outputs": [],
   "source": [
    "def json_serializer(data):\n",
    "    return json.dumps(data).encode('utf-8')\n",
    "\n",
    "producer = KafkaProducer(\n",
    "    bootstrap_servers=[server],\n",
    "    value_serializer=json_serializer\n",
    ")"
   ]
  },
  {
   "cell_type": "code",
   "execution_count": 24,
   "id": "d5771470-dc0a-47e6-9f3e-c0b7f1134b34",
   "metadata": {},
   "outputs": [],
   "source": [
    "\n",
    "from time import time"
   ]
  },
  {
   "cell_type": "code",
   "execution_count": 25,
   "id": "0010ab59-fd01-4b00-9644-b5b3a1d89e60",
   "metadata": {},
   "outputs": [
    {
     "name": "stdout",
     "output_type": "stream",
     "text": [
      "Kafka producer script executed in 24.77 seconds.\n"
     ]
    }
   ],
   "source": [
    "topic_name = 'green-trips'\n",
    "\n",
    "\n",
    "t0 = time()\n",
    "\n",
    "for _, row in df.iterrows():\n",
    "    message = row.to_dict()\n",
    "    producer.send(topic_name, value=message)\n",
    "\n",
    "t1 = time()\n",
    "took = t1 - t0\n",
    "\n",
    "\n",
    "print(f\"Kafka producer script executed in {took:.2f} seconds.\")"
   ]
  },
  {
   "cell_type": "code",
   "execution_count": 16,
   "id": "3a88220d-9581-46e2-8efa-70ae9cfae335",
   "metadata": {},
   "outputs": [],
   "source": [
    "producer.flush()\n",
    "producer.close()"
   ]
  },
  {
   "cell_type": "code",
   "execution_count": null,
   "id": "df85b258-ad90-42dd-aea6-1273a6a2450d",
   "metadata": {},
   "outputs": [],
   "source": []
  }
 ],
 "metadata": {
  "kernelspec": {
   "display_name": "Python 3 (ipykernel)",
   "language": "python",
   "name": "python3"
  },
  "language_info": {
   "codemirror_mode": {
    "name": "ipython",
    "version": 3
   },
   "file_extension": ".py",
   "mimetype": "text/x-python",
   "name": "python",
   "nbconvert_exporter": "python",
   "pygments_lexer": "ipython3",
   "version": "3.11.9"
  }
 },
 "nbformat": 4,
 "nbformat_minor": 5
}
